{
 "cells": [
  {
   "cell_type": "code",
   "execution_count": 10,
   "id": "1357521a",
   "metadata": {},
   "outputs": [],
   "source": [
    "import cv2\n",
    "import numpy as np\n",
    "import matplotlib.pyplot as plt\n",
    "import sys\n",
    "import os\n",
    "import shutil\n",
    "from tqdm import tqdm\n",
    "\n",
    "sys.path.append(\"..\")\n",
    "from exposure import addExposure"
   ]
  },
  {
   "cell_type": "code",
   "execution_count": 32,
   "id": "e0fd4332",
   "metadata": {},
   "outputs": [],
   "source": [
    "# 在这里设置运行时的参数\n",
    "normal_path = \"normal/\"\n",
    "output_path = \"output/\"\n",
    "ratio = 2 \n",
    "\n",
    "if os.path.exists(output_path):\n",
    "    shutil.rmtree(output_path)\n",
    "\n",
    "os.mkdir(output_path) "
   ]
  },
  {
   "cell_type": "code",
   "execution_count": 21,
   "id": "7ba6988d",
   "metadata": {},
   "outputs": [],
   "source": [
    "# 检测文件\n",
    "all_files = os.listdir(normal_path)\n",
    "all_files = sorted(all_files)\n",
    "data_name = []\n",
    "for name in all_files:\n",
    "    prefix, suffix = name.split('.')\n",
    "    if suffix not in [\"jpg\", \"png\"]:\n",
    "        continue\n",
    "    if (prefix + \".txt\") not in all_files:\n",
    "        continue\n",
    "    data_name.append([name, prefix + \".txt\"])"
   ]
  },
  {
   "cell_type": "code",
   "execution_count": 33,
   "id": "38345c4d",
   "metadata": {},
   "outputs": [
    {
     "name": "stderr",
     "output_type": "stream",
     "text": [
      "100%|████████████████████████████████████████████████████████████████████████████████████████████████| 40/40 [00:06<00:00,  6.18it/s]\n"
     ]
    }
   ],
   "source": [
    "\n",
    "for name in tqdm(data_name):\n",
    "    img_name, label_name = name\n",
    "    img = cv2.imread(os.path.join(normal_path, img_name))\n",
    "    label = np.loadtxt(os.path.join(normal_path, label_name), ndmin=2)\n",
    "    \n",
    "    # 随机过曝\n",
    "    height, width, _ = img.shape\n",
    "    for i in range(ratio):\n",
    "        copy_img = img.copy()\n",
    "        bx = label[np.random.randint(0, len(label))]\n",
    "        category, x, y, w, h = bx\n",
    "        x1, y1, x2, y2 = int(width * (x - w / 2)), int(height * (y - h / 2)), \\\n",
    "                    int(width * (x + w / 2)), int(height * (y + h / 2))\n",
    "        center = (np.random.randint(x1, x2), np.random.randint(y1, y2))\n",
    "        radius = np.random.randint(int(min(y2 - y1, x2 - x1) // 2), int(min(y2 - y1, x2 - x1) * 1.6))\n",
    "        strength = np.random.randint(255, 400)\n",
    "        copy_img = addExposure(copy_img, center, radius, strength)\n",
    "\n",
    "        # 保存结果\n",
    "        prefix, _ = img_name.split('.')\n",
    "        new_img_name = prefix + \"_{:0>3d}.jpg\".format(i + 1)\n",
    "        new_label_name = prefix + \"_{:0>3d}.txt\".format(i + 1)\n",
    "        cv2.imwrite(os.path.join(output_path, new_img_name), copy_img)\n",
    "        np.savetxt(os.path.join(output_path, new_label_name), label)"
   ]
  }
 ],
 "metadata": {
  "kernelspec": {
   "display_name": "Python 3 (ipykernel)",
   "language": "python",
   "name": "python3"
  },
  "language_info": {
   "codemirror_mode": {
    "name": "ipython",
    "version": 3
   },
   "file_extension": ".py",
   "mimetype": "text/x-python",
   "name": "python",
   "nbconvert_exporter": "python",
   "pygments_lexer": "ipython3",
   "version": "3.8.10"
  }
 },
 "nbformat": 4,
 "nbformat_minor": 5
}
